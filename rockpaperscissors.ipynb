{
 "cells": [
  {
   "cell_type": "code",
   "execution_count": 1,
   "metadata": {},
   "outputs": [
    {
     "name": "stderr",
     "output_type": "stream",
     "text": [
      "Using TensorFlow backend.\n"
     ]
    }
   ],
   "source": [
    "import tensorflow as tf\n",
    "import keras\n",
    "import numpy as np"
   ]
  },
  {
   "cell_type": "code",
   "execution_count": 4,
   "metadata": {},
   "outputs": [],
   "source": [
    "def wol (A,B):\n",
    "    #A and B are 2 3d vectors one hot [rock paper scissors]; rock = [1 0 0] etc.\n",
    "    if (A[0]==1): # A plays rock\n",
    "        if(B[0]==1):\n",
    "            return 0\n",
    "        elif(B[1]==1):\n",
    "            return -1\n",
    "        elif(B[2]==1):\n",
    "            return 1\n",
    "        \n",
    "    if (A[1]==1): #A plays paper\n",
    "        if(B[0]==1):\n",
    "            return 1\n",
    "        elif(B[1]==1):\n",
    "            return 0\n",
    "        elif(B[2]==1):\n",
    "            return -1\n",
    "        \n",
    "    if (A[2]==1): #A plays scissors\n",
    "        if(B[0]==1):\n",
    "            return -1\n",
    "        elif(B[1]==1):\n",
    "            return 1\n",
    "        elif(B[2]==1):\n",
    "            return 0"
   ]
  },
  {
   "cell_type": "code",
   "execution_count": 5,
   "metadata": {},
   "outputs": [
    {
     "data": {
      "text/plain": [
       "-1"
      ]
     },
     "execution_count": 5,
     "metadata": {},
     "output_type": "execute_result"
    }
   ],
   "source": [
    "p1 = [1,0,0]\n",
    "p2 = [0,1,0]\n",
    "wol(p1,p2)"
   ]
  },
  {
   "cell_type": "code",
   "execution_count": 17,
   "metadata": {
    "collapsed": true
   },
   "outputs": [],
   "source": [
    "def Xin(says,sayo,moves,moveo,result):\n",
    "    s1 = np.concatenate((says,sayo,moves))\n",
    "    xin = np.append(s1,result)\n",
    "    return xin"
   ]
  },
  {
   "cell_type": "code",
   "execution_count": 18,
   "metadata": {},
   "outputs": [
    {
     "name": "stdout",
     "output_type": "stream",
     "text": [
      "[ 1  0  0  0  1  0  0  0  1 -1]\n"
     ]
    }
   ],
   "source": [
    "asay = [1,0,0]\n",
    "bsay = [0,1,0]\n",
    "ado = [0,0,1]\n",
    "bdo = [1,0,0]\n",
    "res =  wol(ado,bdo)\n",
    "inmat = Xin(asay,bsay,ado,bdo,res)\n",
    "print(inmat)"
   ]
  },
  {
   "cell_type": "code",
   "execution_count": 22,
   "metadata": {},
   "outputs": [
    {
     "name": "stdout",
     "output_type": "stream",
     "text": [
      "-1\n"
     ]
    }
   ],
   "source": [
    "inity1 = [1,0,0,1,0,0]\n",
    "inity2 = [0,0,1,0,1,0]\n",
    "acts1 = inity1[3:]\n",
    "acts2 = inity2[3:]\n",
    "resul = wol(acts1,acts2)\n",
    "print(resul)"
   ]
  },
  {
   "cell_type": "code",
   "execution_count": 20,
   "metadata": {},
   "outputs": [
    {
     "data": {
      "text/plain": [
       "[1, 0, 0]"
      ]
     },
     "execution_count": 20,
     "metadata": {},
     "output_type": "execute_result"
    }
   ],
   "source": []
  },
  {
   "cell_type": "code",
   "execution_count": null,
   "metadata": {
    "collapsed": true
   },
   "outputs": [],
   "source": []
  }
 ],
 "metadata": {
  "kernelspec": {
   "display_name": "Python 3",
   "language": "python",
   "name": "python3"
  },
  "language_info": {
   "codemirror_mode": {
    "name": "ipython",
    "version": 3
   },
   "file_extension": ".py",
   "mimetype": "text/x-python",
   "name": "python",
   "nbconvert_exporter": "python",
   "pygments_lexer": "ipython3",
   "version": "3.6.1"
  }
 },
 "nbformat": 4,
 "nbformat_minor": 2
}
